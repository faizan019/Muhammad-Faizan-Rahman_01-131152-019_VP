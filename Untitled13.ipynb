{
 "cells": [
  {
   "cell_type": "code",
   "execution_count": 6,
   "id": "0ddd6be6",
   "metadata": {},
   "outputs": [
    {
     "ename": "NameError",
     "evalue": "name 'df_merged' is not defined",
     "output_type": "error",
     "traceback": [
      "\u001b[1;31m---------------------------------------------------------------------------\u001b[0m",
      "\u001b[1;31mNameError\u001b[0m                                 Traceback (most recent call last)",
      "File \u001b[1;32m~\\AppData\\Local\\Programs\\Python\\Python311\\Lib\\site-packages\\ipywidgets\\widgets\\interaction.py:240\u001b[0m, in \u001b[0;36minteractive.update\u001b[1;34m(self, *args)\u001b[0m\n\u001b[0;32m    238\u001b[0m     value \u001b[38;5;241m=\u001b[39m widget\u001b[38;5;241m.\u001b[39mget_interact_value()\n\u001b[0;32m    239\u001b[0m     \u001b[38;5;28mself\u001b[39m\u001b[38;5;241m.\u001b[39mkwargs[widget\u001b[38;5;241m.\u001b[39m_kwarg] \u001b[38;5;241m=\u001b[39m value\n\u001b[1;32m--> 240\u001b[0m \u001b[38;5;28mself\u001b[39m\u001b[38;5;241m.\u001b[39mresult \u001b[38;5;241m=\u001b[39m \u001b[38;5;28;43mself\u001b[39;49m\u001b[38;5;241;43m.\u001b[39;49m\u001b[43mf\u001b[49m\u001b[43m(\u001b[49m\u001b[38;5;241;43m*\u001b[39;49m\u001b[38;5;241;43m*\u001b[39;49m\u001b[38;5;28;43mself\u001b[39;49m\u001b[38;5;241;43m.\u001b[39;49m\u001b[43mkwargs\u001b[49m\u001b[43m)\u001b[49m\n\u001b[0;32m    241\u001b[0m show_inline_matplotlib_plots()\n\u001b[0;32m    242\u001b[0m \u001b[38;5;28;01mif\u001b[39;00m \u001b[38;5;28mself\u001b[39m\u001b[38;5;241m.\u001b[39mauto_display \u001b[38;5;129;01mand\u001b[39;00m \u001b[38;5;28mself\u001b[39m\u001b[38;5;241m.\u001b[39mresult \u001b[38;5;129;01mis\u001b[39;00m \u001b[38;5;129;01mnot\u001b[39;00m \u001b[38;5;28;01mNone\u001b[39;00m:\n",
      "Cell \u001b[1;32mIn[6], line 43\u001b[0m, in \u001b[0;36mplot_data\u001b[1;34m(variable_input)\u001b[0m\n\u001b[0;32m     41\u001b[0m data_plot \u001b[38;5;241m=\u001b[39m pd\u001b[38;5;241m.\u001b[39mDataFrame()\n\u001b[0;32m     42\u001b[0m plot_list \u001b[38;5;241m=\u001b[39m []\n\u001b[1;32m---> 43\u001b[0m data_plot[\u001b[38;5;124m\"\u001b[39m\u001b[38;5;124mtime\u001b[39m\u001b[38;5;124m\"\u001b[39m] \u001b[38;5;241m=\u001b[39m pd\u001b[38;5;241m.\u001b[39mto_datetime(\u001b[43mdf_merged\u001b[49m\u001b[38;5;241m.\u001b[39mindex\u001b[38;5;241m.\u001b[39mvalues, utc\u001b[38;5;241m=\u001b[39m\u001b[38;5;28;01mTrue\u001b[39;00m)\u001b[38;5;241m.\u001b[39mtz_convert(time_zone)\n\u001b[0;32m     44\u001b[0m \u001b[38;5;28;01mfor\u001b[39;00m data_src \u001b[38;5;129;01min\u001b[39;00m data_vis\u001b[38;5;241m.\u001b[39mkeys():\n\u001b[0;32m     45\u001b[0m     \u001b[38;5;28;01mif\u001b[39;00m \u001b[38;5;28many\u001b[39m(data_vis[data_src]):\n",
      "\u001b[1;31mNameError\u001b[0m: name 'df_merged' is not defined"
     ]
    },
    {
     "data": {
      "application/vnd.jupyter.widget-view+json": {
       "model_id": "3e3d52f91d634163975181fc0c841977",
       "version_major": 2,
       "version_minor": 0
      },
      "text/plain": [
       "interactive(children=(Text(value='', description='<b>Alias:</b>', placeholder='Enter comma separated names'), …"
      ]
     },
     "metadata": {},
     "output_type": "display_data"
    },
    {
     "data": {
      "text/plain": [
       "<function __main__.plot_data(variable_input)>"
      ]
     },
     "execution_count": 6,
     "metadata": {},
     "output_type": "execute_result"
    }
   ],
   "source": [
    "import re\n",
    "import ipywidgets as widgets\n",
    "import plotly.express as px\n",
    "import pandas as pd\n",
    "\n",
    "import numpy as np\n",
    "\n",
    "from google.cloud import bigquery\n",
    "import sys\n",
    "import arrow\n",
    "import datetime\n",
    "import re\n",
    "import warnings\n",
    "warnings.filterwarnings(\"ignore\")\n",
    "\n",
    "# Define a function to plot the data\n",
    "def plot_data(variable_input):\n",
    "    # Plotting data\n",
    "    plot_type = 'properties' #@param [\"properties\", \"weather\", \"controls\"]\n",
    "    plot_variable = 'all' #@param [\"all\" ,\"ahu\", \"chiller\", \"temp\", \"water\", \"air\", \"air_return_temp_sensor\"]\n",
    "    # plot_type = 'properties'\n",
    "    # plot_variables = []\n",
    "\n",
    "    # Check if the input field is empty or not\n",
    "    if variable_input:\n",
    "        # If the input field is not empty, split the input string by comma and plot each variable separately\n",
    "        plot_variables = [v.strip() for v in variable_input.split(',')]\n",
    "    else:\n",
    "        # If the input field is empty, plot all variables\n",
    "        plot_variables = ['all']\n",
    "\n",
    "    # Data visualization dictionary\n",
    "    if 'all' in plot_variables or plot_type != 'properties':\n",
    "        data_vis = {plot_type: []}\n",
    "    else:\n",
    "        var_list = []\n",
    "        for variable in plot_variables:\n",
    "            var_list += [x for x in df_merged.properties if re.search(variable, x)]\n",
    "        data_vis = {plot_type: var_list}\n",
    "\n",
    "    data_plot = pd.DataFrame()\n",
    "    plot_list = []\n",
    "    data_plot[\"time\"] = pd.to_datetime(df_merged.index.values, utc=True).tz_convert(time_zone)\n",
    "    for data_src in data_vis.keys():\n",
    "        if any(data_vis[data_src]):\n",
    "            for aliases in data_vis[data_src]:\n",
    "                plot_list.append(data_src + '_' + aliases)\n",
    "                data_plot = pd.concat(\n",
    "                    [data_plot, pd.DataFrame({data_src + '_' + aliases: df_merged.loc[:, data_src][aliases].ravel()})],\n",
    "                    axis=1)\n",
    "        else:\n",
    "            for item in df_merged.loc[:, data_src].reset_index(drop=True).columns:\n",
    "                plot_list.append(data_src + '_' + item)\n",
    "                data_plot = pd.concat(\n",
    "                    [data_plot, pd.DataFrame({data_src + '_' + item: df_merged.loc[:, data_src][item].ravel()})],\n",
    "                    axis=1)\n",
    "\n",
    "    data_plot.to_csv(\"D:\\weather.csv\")\n",
    "    fig = px.line(data_frame=data_plot, x='time', y=plot_list)\n",
    "    fig.update_traces(mode=\"lines\", hovertemplate=None)\n",
    "    fig.update_layout(hovermode='x', height = 600, width = 1450)\n",
    "    fig.show()\n",
    "    print(plot_list)\n",
    "\n",
    "\n",
    "# Add an input field for the variable name\n",
    "variable_in = widgets.Text(\n",
    "    value='',\n",
    "    placeholder='Enter comma separated names',\n",
    "    description='<b>Alias:</b>',\n",
    "    disabled=False\n",
    ")\n",
    "\n",
    "# Call the plot_data function when the input field changes\n",
    "widgets.interact(plot_data, variable_input=variable_in)\n",
    "# plot_data(\"ahu_101_air_return_temp_sensor,ahu_102_air_return_temp_sensor\")"
   ]
  },
  {
   "cell_type": "code",
   "execution_count": 7,
   "id": "6ee76d06",
   "metadata": {},
   "outputs": [
    {
     "name": "stdout",
     "output_type": "stream",
     "text": [
      "   ahu_cmd_enabled_24h\n",
      "0  ahu_cmd_enabled_72h\n",
      "1      ahu_enabled_24h\n",
      "2      ahu_enabled_72h\n",
      "3  chiller_enabled_24h\n",
      "4  chiller_enabled_72h\n"
     ]
    }
   ],
   "source": [
    "import pandas as pd\n",
    "\n",
    "# Load the CSV file into a Pandas DataFrame\n",
    "df = pd.read_csv('D:\\\\weather.csv')\n",
    "\n",
    "# Print the first few rows of the DataFrame to verify that the data has been loaded correctly\n",
    "print(df.head())\n"
   ]
  },
  {
   "cell_type": "code",
   "execution_count": 8,
   "id": "05789d63",
   "metadata": {},
   "outputs": [
    {
     "ename": "ValueError",
     "evalue": "The truth value of a DataFrame is ambiguous. Use a.empty, a.bool(), a.item(), a.any() or a.all().",
     "output_type": "error",
     "traceback": [
      "\u001b[1;31m---------------------------------------------------------------------------\u001b[0m",
      "\u001b[1;31mValueError\u001b[0m                                Traceback (most recent call last)",
      "Cell \u001b[1;32mIn[8], line 1\u001b[0m\n\u001b[1;32m----> 1\u001b[0m \u001b[43mplot_data\u001b[49m\u001b[43m(\u001b[49m\u001b[43mdf\u001b[49m\u001b[43m)\u001b[49m\n",
      "Cell \u001b[1;32mIn[6], line 25\u001b[0m, in \u001b[0;36mplot_data\u001b[1;34m(variable_input)\u001b[0m\n\u001b[0;32m     20\u001b[0m plot_variable \u001b[38;5;241m=\u001b[39m \u001b[38;5;124m'\u001b[39m\u001b[38;5;124mall\u001b[39m\u001b[38;5;124m'\u001b[39m \u001b[38;5;66;03m#@param [\"all\" ,\"ahu\", \"chiller\", \"temp\", \"water\", \"air\", \"air_return_temp_sensor\"]\u001b[39;00m\n\u001b[0;32m     21\u001b[0m \u001b[38;5;66;03m# plot_type = 'properties'\u001b[39;00m\n\u001b[0;32m     22\u001b[0m \u001b[38;5;66;03m# plot_variables = []\u001b[39;00m\n\u001b[0;32m     23\u001b[0m \n\u001b[0;32m     24\u001b[0m \u001b[38;5;66;03m# Check if the input field is empty or not\u001b[39;00m\n\u001b[1;32m---> 25\u001b[0m \u001b[38;5;28;01mif\u001b[39;00m variable_input:\n\u001b[0;32m     26\u001b[0m     \u001b[38;5;66;03m# If the input field is not empty, split the input string by comma and plot each variable separately\u001b[39;00m\n\u001b[0;32m     27\u001b[0m     plot_variables \u001b[38;5;241m=\u001b[39m [v\u001b[38;5;241m.\u001b[39mstrip() \u001b[38;5;28;01mfor\u001b[39;00m v \u001b[38;5;129;01min\u001b[39;00m variable_input\u001b[38;5;241m.\u001b[39msplit(\u001b[38;5;124m'\u001b[39m\u001b[38;5;124m,\u001b[39m\u001b[38;5;124m'\u001b[39m)]\n\u001b[0;32m     28\u001b[0m \u001b[38;5;28;01melse\u001b[39;00m:\n\u001b[0;32m     29\u001b[0m     \u001b[38;5;66;03m# If the input field is empty, plot all variables\u001b[39;00m\n",
      "File \u001b[1;32m~\\AppData\\Local\\Programs\\Python\\Python311\\Lib\\site-packages\\pandas\\core\\generic.py:1527\u001b[0m, in \u001b[0;36mNDFrame.__nonzero__\u001b[1;34m(self)\u001b[0m\n\u001b[0;32m   1525\u001b[0m \u001b[38;5;129m@final\u001b[39m\n\u001b[0;32m   1526\u001b[0m \u001b[38;5;28;01mdef\u001b[39;00m \u001b[38;5;21m__nonzero__\u001b[39m(\u001b[38;5;28mself\u001b[39m) \u001b[38;5;241m-\u001b[39m\u001b[38;5;241m>\u001b[39m NoReturn:\n\u001b[1;32m-> 1527\u001b[0m     \u001b[38;5;28;01mraise\u001b[39;00m \u001b[38;5;167;01mValueError\u001b[39;00m(\n\u001b[0;32m   1528\u001b[0m         \u001b[38;5;124mf\u001b[39m\u001b[38;5;124m\"\u001b[39m\u001b[38;5;124mThe truth value of a \u001b[39m\u001b[38;5;132;01m{\u001b[39;00m\u001b[38;5;28mtype\u001b[39m(\u001b[38;5;28mself\u001b[39m)\u001b[38;5;241m.\u001b[39m\u001b[38;5;18m__name__\u001b[39m\u001b[38;5;132;01m}\u001b[39;00m\u001b[38;5;124m is ambiguous. \u001b[39m\u001b[38;5;124m\"\u001b[39m\n\u001b[0;32m   1529\u001b[0m         \u001b[38;5;124m\"\u001b[39m\u001b[38;5;124mUse a.empty, a.bool(), a.item(), a.any() or a.all().\u001b[39m\u001b[38;5;124m\"\u001b[39m\n\u001b[0;32m   1530\u001b[0m     )\n",
      "\u001b[1;31mValueError\u001b[0m: The truth value of a DataFrame is ambiguous. Use a.empty, a.bool(), a.item(), a.any() or a.all()."
     ]
    }
   ],
   "source": [
    "plot_data(df)\n"
   ]
  },
  {
   "cell_type": "code",
   "execution_count": null,
   "id": "5336a232",
   "metadata": {},
   "outputs": [],
   "source": []
  },
  {
   "cell_type": "code",
   "execution_count": null,
   "id": "8164ec5e",
   "metadata": {},
   "outputs": [],
   "source": []
  }
 ],
 "metadata": {
  "kernelspec": {
   "display_name": "Python 3 (ipykernel)",
   "language": "python",
   "name": "python3"
  },
  "language_info": {
   "codemirror_mode": {
    "name": "ipython",
    "version": 3
   },
   "file_extension": ".py",
   "mimetype": "text/x-python",
   "name": "python",
   "nbconvert_exporter": "python",
   "pygments_lexer": "ipython3",
   "version": "3.11.1"
  }
 },
 "nbformat": 4,
 "nbformat_minor": 5
}
