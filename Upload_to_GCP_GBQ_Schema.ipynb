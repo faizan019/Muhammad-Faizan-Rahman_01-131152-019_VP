{
 "cells": [
  {
   "cell_type": "code",
   "execution_count": 34,
   "id": "7734286d",
   "metadata": {},
   "outputs": [],
   "source": [
    "import pandas as pd\n",
    "from pandas.io import gbq\n",
    "import pandas_gbq\n",
    "from google.cloud import bigquery\n",
    "from google.cloud.bigquery import SchemaField\n",
    "\n",
    "schema = [\n",
    "    {\"name\":\"time_local\", \"type\":\"DATETIME\"},\n",
    "    {\"name\": \"alias\", \"type\": \"STRING\"},\n",
    "    {\"name\":\"value\", \"type\": \"FLOAT\"}\n",
    "]\n",
    "\n",
    "\n",
    "df = pd.read_csv(\"D:\\\\Thermosphr\\\\KPI_task\\\\main_data.csv\")\n",
    "\n",
    "df['time_local'] = pd.to_datetime(df['time_local'])\n",
    "\n",
    "table_id = 'outstanding-pen-377709.faizan_dataset.my_gbq_table010'\n",
    "pandas_gbq.to_gbq(df,table_id, table_schema=schema, project_id=\"outstanding-pen-377709\", if_exists='fail')\n"
   ]
  },
  {
   "cell_type": "code",
   "execution_count": 35,
   "id": "1a343d15",
   "metadata": {},
   "outputs": [
    {
     "data": {
      "text/plain": [
       "time_local    datetime64[ns]\n",
       "alias                 object\n",
       "value                float64\n",
       "dtype: object"
      ]
     },
     "execution_count": 35,
     "metadata": {},
     "output_type": "execute_result"
    }
   ],
   "source": [
    "df.dtypes"
   ]
  },
  {
   "cell_type": "code",
   "execution_count": null,
   "id": "3e470e77",
   "metadata": {},
   "outputs": [],
   "source": []
  }
 ],
 "metadata": {
  "kernelspec": {
   "display_name": "Python 3 (ipykernel)",
   "language": "python",
   "name": "python3"
  },
  "language_info": {
   "codemirror_mode": {
    "name": "ipython",
    "version": 3
   },
   "file_extension": ".py",
   "mimetype": "text/x-python",
   "name": "python",
   "nbconvert_exporter": "python",
   "pygments_lexer": "ipython3",
   "version": "3.11.1"
  }
 },
 "nbformat": 4,
 "nbformat_minor": 5
}
