{
 "cells": [
  {
   "cell_type": "code",
   "execution_count": 1,
   "id": "42bb7edb",
   "metadata": {},
   "outputs": [],
   "source": [
    "from googleapiclient import discovery\n",
    "from google.cloud import storage\n",
    "import pandas as pd"
   ]
  },
  {
   "cell_type": "code",
   "execution_count": 4,
   "id": "f57c0919",
   "metadata": {},
   "outputs": [],
   "source": [
    "import os\n",
    "os.environ['GOOGLE_APPLICATION_CREDENTIALS'] = 'D:\\Thermosphr\\outstanding-pen-377709-0f03cf51086b.json'"
   ]
  },
  {
   "cell_type": "code",
   "execution_count": 5,
   "id": "3195a402",
   "metadata": {},
   "outputs": [],
   "source": [
    "client = storage.Client()"
   ]
  },
  {
   "cell_type": "code",
   "execution_count": 8,
   "id": "77f1b9a9",
   "metadata": {},
   "outputs": [],
   "source": [
    "bucket = client.bucket('faizan_bucket')\n",
    "blob = bucket.blob('D:\\Thermosphr\\KPI_task\\main_data.csv')\n",
    "blob.upload_from_filename('D:\\Thermosphr\\QA & KPI\\KPI\\KPI\\data_rd.csv')"
   ]
  },
  {
   "cell_type": "code",
   "execution_count": null,
   "id": "6361f5b1",
   "metadata": {},
   "outputs": [],
   "source": [
    "# Tasks that I did in GCP are:\n",
    "#     1-upload a csv file into the GCP bucket\n",
    "#     2-Creating a dataset in a GCP and upload a csv in a dataset table by defining its schema\n",
    "#     3-Stream data to GCP table\n",
    "#     4-Create a GCP function to read a file from the Bucket:\n",
    "#         4.1- Did the ETL on the file\n",
    "#         4.2-Trigger it through HTTP\n",
    "#         4.3-Trigger it through Pubsub\n",
    "#         4.4-Add the scheduler\n",
    "#     5-Connect to the firebase:\n",
    "#         5.1-Get the documents from the collection and subcollection, merge them and Print the combined data as a JSON string\n",
    "#         5.2-Added the new document in a collection and added the JSON data in that document"
   ]
  },
  {
   "cell_type": "code",
   "execution_count": null,
   "id": "fcc559f8",
   "metadata": {},
   "outputs": [],
   "source": []
  }
 ],
 "metadata": {
  "kernelspec": {
   "display_name": "Python 3 (ipykernel)",
   "language": "python",
   "name": "python3"
  },
  "language_info": {
   "codemirror_mode": {
    "name": "ipython",
    "version": 3
   },
   "file_extension": ".py",
   "mimetype": "text/x-python",
   "name": "python",
   "nbconvert_exporter": "python",
   "pygments_lexer": "ipython3",
   "version": "3.11.1"
  }
 },
 "nbformat": 4,
 "nbformat_minor": 5
}
