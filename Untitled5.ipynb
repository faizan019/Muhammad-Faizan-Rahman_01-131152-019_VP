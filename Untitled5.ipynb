{
 "cells": [
  {
   "cell_type": "code",
   "execution_count": 1,
   "id": "f37038af",
   "metadata": {},
   "outputs": [],
   "source": [
    "import arrow\n",
    "import pandas as pd\n",
    "import json\n",
    "import google.auth\n",
    "import google.auth\n",
    "import logging\n",
    "from string import Template\n",
    "from meteostat import Daily\n",
    "from google.cloud import bigquery\n",
    "import datetime\n",
    "import pandas as pd\n",
    "import numpy as np\n",
    "import regex as re\n",
    "from datetime import time\n",
    "from functools import reduce\n",
    "\n",
    "\n",
    "\n",
    "import warnings\n",
    "warnings.filterwarnings('ignore')"
   ]
  },
  {
   "cell_type": "code",
   "execution_count": 3,
   "id": "5eaed07a",
   "metadata": {},
   "outputs": [],
   "source": [
    "df=pd.read_csv('D:\\\\Cloud-Track\\\\assign1\\\\main_data.csv')"
   ]
  },
  {
   "cell_type": "code",
   "execution_count": null,
   "id": "40816708",
   "metadata": {},
   "outputs": [],
   "source": []
  }
 ],
 "metadata": {
  "kernelspec": {
   "display_name": "Python 3 (ipykernel)",
   "language": "python",
   "name": "python3"
  },
  "language_info": {
   "codemirror_mode": {
    "name": "ipython",
    "version": 3
   },
   "file_extension": ".py",
   "mimetype": "text/x-python",
   "name": "python",
   "nbconvert_exporter": "python",
   "pygments_lexer": "ipython3",
   "version": "3.11.1"
  }
 },
 "nbformat": 4,
 "nbformat_minor": 5
}
