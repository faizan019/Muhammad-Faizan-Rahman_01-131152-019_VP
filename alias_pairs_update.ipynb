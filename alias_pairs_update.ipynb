{
 "cells": [
  {
   "cell_type": "code",
   "execution_count": 47,
   "id": "7f356e70",
   "metadata": {},
   "outputs": [
    {
     "name": "stdout",
     "output_type": "stream",
     "text": [
      "                       word digit\n",
      "0            5Hello2World25     5\n",
      "1                   3MyName     3\n",
      "2                 4NoNumber     4\n",
      "3        air_temperature_1h     1\n",
      "4  ahu_10_co2_return_sensor     1\n"
     ]
    }
   ],
   "source": [
    "df = pd.DataFrame({'word': ['5Hello2World25', '3MyName', '4NoNumber','air_temperature_1h','ahu_10_co2_return_sensor']})\n",
    "df['digit'] = df['word'].str.extract(r'(\\d)')\n",
    "print(df)"
   ]
  },
  {
   "cell_type": "code",
   "execution_count": 35,
   "id": "040de2f9",
   "metadata": {},
   "outputs": [
    {
     "name": "stdout",
     "output_type": "stream",
     "text": [
      "                       word      digit\n",
      "0        air_temperature_1h        [1]\n",
      "1  ahu_10_co2_return_sensor  [1, 0, 2]\n",
      "2                 4NoNumber        [4]\n"
     ]
    }
   ],
   "source": [
    "df = pd.DataFrame({'word': ['air_temperature_1h', 'ahu_10_co2_return_sensor', '4NoNumber']})\n",
    "df['digit'] = df['word'].str.findall(r'(\\d)')\n",
    "print(df)"
   ]
  },
  {
   "cell_type": "code",
   "execution_count": 55,
   "id": "70774d3d",
   "metadata": {},
   "outputs": [
    {
     "name": "stdout",
     "output_type": "stream",
     "text": [
      "                                                word      digit\n",
      "0                                 air_temperature_1h        [1]\n",
      "1               ahu_10_co_return_abbj_jcjj_sensor100  [10, 100]\n",
      "2     heatExchanger_2_primaryLoop_hot_water_valve_sp        [2]\n",
      "3  heatExchanger_1_primaryLoop_hot_water_leaving_...        [1]\n",
      "4                                ahu_1_enable_sensor        [1]\n",
      "5                        ahu_1_chiller_enable_sensor        [1]\n"
     ]
    }
   ],
   "source": [
    "df = pd.DataFrame({'word': ['air_temperature_1h', 'ahu_10_co_return_abbj_jcjj_sensor100', 'heatExchanger_2_primaryLoop_hot_water_valve_sp','heatExchanger_1_primaryLoop_hot_water_leaving_temp_sensor','ahu_1_enable_sensor','ahu_1_chiller_enable_sensor']})\n",
    "df['digit'] = df['word'].str.findall(r'(\\d+)')\n",
    "print(df)"
   ]
  },
  {
   "cell_type": "code",
   "execution_count": 41,
   "id": "4aed04cd",
   "metadata": {},
   "outputs": [
    {
     "name": "stdout",
     "output_type": "stream",
     "text": [
      "                                                word  \\\n",
      "0                                 air_temperature_1h   \n",
      "1                           ahu_10_co2_return_sensor   \n",
      "2                                          4NoNumber   \n",
      "3  heatExchanger_1_primaryLoop_hot_water_leaving_...   \n",
      "\n",
      "                                               digit  \n",
      "0            [, , , , , , , , , , , , , , , , 1, , ]  \n",
      "1  [, , , , 10, , , , 2, , , , , , , , , , , , , ...  \n",
      "2                              [4, , , , , , , , , ]  \n",
      "3  [, , , , , , , , , , , , , , 1, , , , , , , , ...  \n"
     ]
    }
   ],
   "source": [
    "df = pd.DataFrame({'word': ['air_temperature_1h', 'ahu_10_co2_return_sensor', '4NoNumber','heatExchanger_1_primaryLoop_hot_water_leaving_temp_sensor']})\n",
    "df['digit'] = df['word'].str.findall(r'(\\d*)')\n",
    "print(df)"
   ]
  },
  {
   "cell_type": "code",
   "execution_count": 43,
   "id": "a28c54cc",
   "metadata": {},
   "outputs": [
    {
     "data": {
      "text/html": [
       "<div>\n",
       "<style scoped>\n",
       "    .dataframe tbody tr th:only-of-type {\n",
       "        vertical-align: middle;\n",
       "    }\n",
       "\n",
       "    .dataframe tbody tr th {\n",
       "        vertical-align: top;\n",
       "    }\n",
       "\n",
       "    .dataframe thead th {\n",
       "        text-align: right;\n",
       "    }\n",
       "</style>\n",
       "<table border=\"1\" class=\"dataframe\">\n",
       "  <thead>\n",
       "    <tr style=\"text-align: right;\">\n",
       "      <th></th>\n",
       "      <th>word</th>\n",
       "    </tr>\n",
       "  </thead>\n",
       "  <tbody>\n",
       "    <tr>\n",
       "      <th>0</th>\n",
       "      <td>He3llo</td>\n",
       "    </tr>\n",
       "    <tr>\n",
       "      <th>2</th>\n",
       "      <td>2Hello</td>\n",
       "    </tr>\n",
       "    <tr>\n",
       "      <th>3</th>\n",
       "      <td>1_chiller</td>\n",
       "    </tr>\n",
       "    <tr>\n",
       "      <th>4</th>\n",
       "      <td>air_temperature_1h</td>\n",
       "    </tr>\n",
       "    <tr>\n",
       "      <th>5</th>\n",
       "      <td>ahu_10_co2_return_sensor</td>\n",
       "    </tr>\n",
       "    <tr>\n",
       "      <th>6</th>\n",
       "      <td>heatExchanger_1_primaryLoop_hot_water_leaving_...</td>\n",
       "    </tr>\n",
       "  </tbody>\n",
       "</table>\n",
       "</div>"
      ],
      "text/plain": [
       "                                                word\n",
       "0                                             He3llo\n",
       "2                                             2Hello\n",
       "3                                          1_chiller\n",
       "4                                 air_temperature_1h\n",
       "5                           ahu_10_co2_return_sensor\n",
       "6  heatExchanger_1_primaryLoop_hot_water_leaving_..."
      ]
     },
     "execution_count": 43,
     "metadata": {},
     "output_type": "execute_result"
    }
   ],
   "source": [
    "df = pd.DataFrame({'word': ['He3llo', 'World', '2Hello', '1_chiller','air_temperature_1h','ahu_10_co2_return_sensor','heatExchanger_1_primaryLoop_hot_water_leaving_temp_sensor']})\n",
    "result = df['word'].str.contains(r'\\d')\n",
    "df[result]"
   ]
  },
  {
   "cell_type": "code",
   "execution_count": null,
   "id": "ccd7d60a",
   "metadata": {},
   "outputs": [],
   "source": [
    "df = pd.DataFrame({'word': ['air_temperature_1h', 'ahu_10_co2_return_sensor100', 'heatExchanger_2_primaryLoop_hot_water_valve_sp','heatExchanger_1_primaryLoop_hot_water_leaving_temp_sensor','ahu_1_enable_sensor','ahu_1_chiller_enable_sensor']})\n",
    "df['digit'] = df['word'].str.findall(r'(\\d+)')\n",
    "print(df)\n",
    "for i in range(df):\n",
    "    if df['digit'] ==2:\n",
    "        print(df)"
   ]
  },
  {
   "cell_type": "code",
   "execution_count": 54,
   "id": "d856a542",
   "metadata": {},
   "outputs": [
    {
     "name": "stdout",
     "output_type": "stream",
     "text": [
      "  string1 string2\n",
      "0   Hello   World\n"
     ]
    }
   ],
   "source": [
    "df = pd.DataFrame({'string1': ['Hello', 'My Name', 'No Number'], 'string2': ['World', 'Name', 'Number']})\n",
    "\n",
    "# Find all rows where the column 'string1' matches 'Hello'\n",
    "df1 = df[df['string1'].eq('Hello')]\n",
    "print(df1)"
   ]
  },
  {
   "cell_type": "code",
   "execution_count": null,
   "id": "e46f8f04",
   "metadata": {},
   "outputs": [],
   "source": []
  }
 ],
 "metadata": {
  "kernelspec": {
   "display_name": "Python 3 (ipykernel)",
   "language": "python",
   "name": "python3"
  },
  "language_info": {
   "codemirror_mode": {
    "name": "ipython",
    "version": 3
   },
   "file_extension": ".py",
   "mimetype": "text/x-python",
   "name": "python",
   "nbconvert_exporter": "python",
   "pygments_lexer": "ipython3",
   "version": "3.11.1"
  }
 },
 "nbformat": 4,
 "nbformat_minor": 5
}
