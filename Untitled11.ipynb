{
 "cells": [
  {
   "cell_type": "code",
   "execution_count": 1,
   "id": "429215c9",
   "metadata": {},
   "outputs": [],
   "source": [
    "from google.cloud import storage\n",
    "import pandas as pd\n",
    "\n",
    "def download_file_as_dataframe(bucket_name, file_name):\n",
    "    # Create a GCS client object\n",
    "    storage_client = storage.Client()\n",
    "\n",
    "    # Get the GCS bucket object\n",
    "    bucket = storage_client.bucket(bucket_name)\n",
    "\n",
    "    # Get the GCS blob object for the file\n",
    "    blob = bucket.blob(file_name)\n",
    "\n",
    "    # Download the contents of the file as a pandas dataframe\n",
    "    df = pd.read_csv(blob.download_as_text())\n",
    "\n",
    "    # Return the pandas dataframe\n",
    "    return df"
   ]
  },
  {
   "cell_type": "code",
   "execution_count": null,
   "id": "412f4f66",
   "metadata": {},
   "outputs": [],
   "source": [
    "df = download_file_as_dataframe('faizan_bucket', 'main_data.csv')"
   ]
  },
  {
   "cell_type": "code",
   "execution_count": null,
   "id": "f8e26a97",
   "metadata": {},
   "outputs": [],
   "source": []
  }
 ],
 "metadata": {
  "kernelspec": {
   "display_name": "Python 3 (ipykernel)",
   "language": "python",
   "name": "python3"
  },
  "language_info": {
   "codemirror_mode": {
    "name": "ipython",
    "version": 3
   },
   "file_extension": ".py",
   "mimetype": "text/x-python",
   "name": "python",
   "nbconvert_exporter": "python",
   "pygments_lexer": "ipython3",
   "version": "3.11.1"
  }
 },
 "nbformat": 4,
 "nbformat_minor": 5
}
