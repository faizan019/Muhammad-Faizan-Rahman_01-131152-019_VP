{
 "cells": [
  {
   "cell_type": "code",
   "execution_count": 49,
   "id": "8418a224",
   "metadata": {},
   "outputs": [],
   "source": [
    "#from google.cloud import bigquery\n",
    "from google.cloud import storage\n",
    "import pandas as pd\n",
    "from google.oauth2 import service_account\n",
    "credentials = service_account.Credentials.from_service_account_file('D:\\Thermosphr\\outstanding-pen-377709-0f03cf51086b.json')\n",
    "project_id = \"outstanding-pen-377709\"\n",
    "client = storage.Client(credentials= credentials,project=project_id)"
   ]
  },
  {
   "cell_type": "code",
   "execution_count": 41,
   "id": "836c975a",
   "metadata": {},
   "outputs": [],
   "source": [
    "data_rd = pd.read_csv('D:\\Thermosphr\\KPI_task\\main_data.csv')"
   ]
  },
  {
   "cell_type": "code",
   "execution_count": 44,
   "id": "ffc80f99",
   "metadata": {},
   "outputs": [],
   "source": [
    "bucket = client.bucket('faizan_bucket')"
   ]
  },
  {
   "cell_type": "code",
   "execution_count": 47,
   "id": "a513cdf6",
   "metadata": {},
   "outputs": [],
   "source": [
    "blob = bucket.blob('main_data.csv')"
   ]
  },
  {
   "cell_type": "code",
   "execution_count": 48,
   "id": "60695fcc",
   "metadata": {},
   "outputs": [],
   "source": [
    "blob.upload_from_filename('D:\\Thermosphr\\KPI_task\\main_data.csv')"
   ]
  }
 ],
 "metadata": {
  "kernelspec": {
   "display_name": "Python 3 (ipykernel)",
   "language": "python",
   "name": "python3"
  },
  "language_info": {
   "codemirror_mode": {
    "name": "ipython",
    "version": 3
   },
   "file_extension": ".py",
   "mimetype": "text/x-python",
   "name": "python",
   "nbconvert_exporter": "python",
   "pygments_lexer": "ipython3",
   "version": "3.11.1"
  }
 },
 "nbformat": 4,
 "nbformat_minor": 5
}
